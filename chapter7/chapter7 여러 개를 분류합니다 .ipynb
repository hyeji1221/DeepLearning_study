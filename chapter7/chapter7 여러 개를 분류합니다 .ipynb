{
 "cells": [
  {
   "cell_type": "code",
   "execution_count": 5,
   "metadata": {},
   "outputs": [],
   "source": [
    "import numpy as np"
   ]
  },
  {
   "cell_type": "code",
   "execution_count": 6,
   "metadata": {},
   "outputs": [],
   "source": [
    "class MultiClassNetwork:\n",
    "    \n",
    "    def __init__(self, units=10, batch_size=32, learning_rate=0.1, l1=0, l2=0):\n",
    "        self.units = units         # 은닉층의 뉴런 개수\n",
    "        self.batch_size = batch_size     # 배치 크기\n",
    "        self.w1 = None             # 은닉층의 가중치\n",
    "        self.b1 = None             # 은닉층의 절편\n",
    "        self.w2 = None             # 출력층의 가중치\n",
    "        self.b2 = None             # 출력층의 절편\n",
    "        self.a1 = None             # 은닉층의 활성화 출력\n",
    "        self.losses = []           # 훈련 손실\n",
    "        self.val_losses = []       # 검증 손실\n",
    "        self.lr = learning_rate    # 학습률\n",
    "        self.l1 = l1               # L1 손실 하이퍼파라미터\n",
    "        self.l2 = l2               # L2 손실 하이퍼파라미터\n",
    "\n",
    "    def forpass(self, x):\n",
    "        z1 = np.dot(x, self.w1) + self.b1        # 첫 번째 층의 선형 식을 계산합니다\n",
    "        self.a1 = self.sigmoid(z1)               # 활성화 함수를 적용합니다\n",
    "        z2 = np.dot(self.a1, self.w2) + self.b2  # 두 번째 층의 선형 식을 계산합니다.\n",
    "        return z2\n",
    "\n",
    "    def backprop(self, x, err):\n",
    "        m = len(x)       # 샘플 개수\n",
    "        # 출력층의 가중치와 절편에 대한 그래디언트를 계산합니다.\n",
    "        w2_grad = np.dot(self.a1.T, err) / m\n",
    "        b2_grad = np.sum(err) / m\n",
    "        # 시그모이드 함수까지 그래디언트를 계산합니다.\n",
    "        err_to_hidden = np.dot(err, self.w2.T) * self.a1 * (1 - self.a1)\n",
    "        # 은닉층의 가중치와 절편에 대한 그래디언트를 계산합니다.\n",
    "        w1_grad = np.dot(x.T, err_to_hidden) / m\n",
    "        b1_grad = np.sum(err_to_hidden, axis=0) / m\n",
    "        return w1_grad, b1_grad, w2_grad, b2_grad\n",
    "    \n",
    "    def sigmoid(self, z):\n",
    "        z = np.clip(z, -100, None)            # 안전한 np.exp() 계산을 위해\n",
    "        a = 1 / (1 + np.exp(-z))              # 시그모이드 계산\n",
    "        return a\n",
    "    \n",
    "    def softmax(self, z):\n",
    "        # 소프트맥스 함수\n",
    "        z = np.clip(z, -100, None)            # 안전한 np.exp() 계산을 위해\n",
    "        exp_z = np.exp(z)\n",
    "        return exp_z / np.sum(exp_z, axis=1).reshape(-1, 1)\n",
    " \n",
    "    def init_weights(self, n_features, n_classes):\n",
    "        self.w1 = np.random.normal(0, 1, \n",
    "                                   (n_features, self.units))  # (특성 개수, 은닉층의 크기)\n",
    "        self.b1 = np.zeros(self.units)                        # 은닉층의 크기\n",
    "        self.w2 = np.random.normal(0, 1, \n",
    "                                   (self.units, n_classes))   # (은닉층의 크기, 클래스 개수)\n",
    "        self.b2 = np.zeros(n_classes)\n",
    "        \n",
    "    def fit(self, x, y, epochs=100, x_val=None, y_val=None):\n",
    "        np.random.seed(42)\n",
    "        self.init_weights(x.shape[1], y.shape[1])    # 은닉층과 출력층의 가중치를 초기화합니다.\n",
    "        # epochs만큼 반복합니다.\n",
    "        for i in range(epochs):\n",
    "            loss = 0\n",
    "            print('.', end='')\n",
    "            # 제너레이터 함수에서 반환한 미니배치를 순환합니다.\n",
    "            for x_batch, y_batch in self.gen_batch(x, y):\n",
    "                a = self.training(x_batch, y_batch)\n",
    "                # 안전한 로그 계산을 위해 클리핑합니다.\n",
    "                a = np.clip(a, 1e-10, 1-1e-10)\n",
    "                # 로그 손실과 규제 손실을 더하여 리스트에 추가합니다.\n",
    "                loss += np.sum(-y_batch*np.log(a))\n",
    "            self.losses.append((loss + self.reg_loss()) / len(x))\n",
    "            # 검증 세트에 대한 손실을 계산합니다.\n",
    "            self.update_val_loss(x_val, y_val)\n",
    "\n",
    "    # 미니배치 제너레이터 함수\n",
    "    def gen_batch(self, x, y):\n",
    "        length = len(x)\n",
    "        bins = length // self.batch_size # 미니배치 횟수\n",
    "        if length % self.batch_size:\n",
    "            bins += 1                    # 나누어 떨어지지 않을 때\n",
    "        indexes = np.random.permutation(np.arange(len(x))) # 인덱스를 섞습니다.\n",
    "        x = x[indexes]\n",
    "        y = y[indexes]\n",
    "        for i in range(bins):\n",
    "            start = self.batch_size * i\n",
    "            end = self.batch_size * (i + 1)\n",
    "            yield x[start:end], y[start:end]   # batch_size만큼 슬라이싱하여 반환합니다.\n",
    "            \n",
    "    def training(self, x, y):\n",
    "        m = len(x)                # 샘플 개수를 저장합니다.\n",
    "        z = self.forpass(x)       # 정방향 계산을 수행합니다.\n",
    "        a = self.softmax(z)       # 활성화 함수를 적용합니다.\n",
    "        err = -(y - a)            # 오차를 계산합니다.\n",
    "        # 오차를 역전파하여 그래디언트를 계산합니다.\n",
    "        w1_grad, b1_grad, w2_grad, b2_grad = self.backprop(x, err)\n",
    "        # 그래디언트에서 페널티 항의 미분 값을 뺍니다\n",
    "        w1_grad += (self.l1 * np.sign(self.w1) + self.l2 * self.w1) / m\n",
    "        w2_grad += (self.l1 * np.sign(self.w2) + self.l2 * self.w2) / m\n",
    "        # 은닉층의 가중치와 절편을 업데이트합니다.\n",
    "        self.w1 -= self.lr * w1_grad\n",
    "        self.b1 -= self.lr * b1_grad\n",
    "        # 출력층의 가중치와 절편을 업데이트합니다.\n",
    "        self.w2 -= self.lr * w2_grad\n",
    "        self.b2 -= self.lr * b2_grad\n",
    "        return a\n",
    "   \n",
    "    def predict(self, x):\n",
    "        z = self.forpass(x)          # 정방향 계산을 수행합니다.\n",
    "        return np.argmax(z, axis=1)  # 가장 큰 값의 인덱스를 반환합니다.\n",
    "    \n",
    "    def score(self, x, y):\n",
    "        # 예측과 타깃 열 벡터를 비교하여 True의 비율을 반환합니다.\n",
    "        return np.mean(self.predict(x) == np.argmax(y, axis=1))\n",
    "\n",
    "    def reg_loss(self):\n",
    "        # 은닉층과 출력층의 가중치에 규제를 적용합니다.\n",
    "        return self.l1 * (np.sum(np.abs(self.w1)) + np.sum(np.abs(self.w2))) + \\\n",
    "               self.l2 / 2 * (np.sum(self.w1**2) + np.sum(self.w2**2))\n",
    "\n",
    "    def update_val_loss(self, x_val, y_val):\n",
    "        z = self.forpass(x_val)            # 정방향 계산을 수행합니다.\n",
    "        a = self.softmax(z)                # 활성화 함수를 적용합니다.\n",
    "        a = np.clip(a, 1e-10, 1-1e-10)     # 출력 값을 클리핑합니다.\n",
    "        # 크로스 엔트로피 손실과 규제 손실을 더하여 리스트에 추가합니다.\n",
    "        val_loss = np.sum(-y_val*np.log(a))\n",
    "        self.val_losses.append((val_loss + self.reg_loss()) / len(y_val))"
   ]
  },
  {
   "cell_type": "code",
   "execution_count": 7,
   "metadata": {},
   "outputs": [],
   "source": [
    "import tensorflow as tf"
   ]
  },
  {
   "cell_type": "code",
   "execution_count": 8,
   "metadata": {},
   "outputs": [
    {
     "data": {
      "text/plain": [
       "'2.4.0'"
      ]
     },
     "execution_count": 8,
     "metadata": {},
     "output_type": "execute_result"
    }
   ],
   "source": [
    "tf.__version__"
   ]
  },
  {
   "cell_type": "code",
   "execution_count": 9,
   "metadata": {},
   "outputs": [
    {
     "name": "stdout",
     "output_type": "stream",
     "text": [
      "(60000, 28, 28) (60000,)\n"
     ]
    }
   ],
   "source": [
    "(x_train_all, y_train_all), (x_test, y_test) = tf.keras.datasets.fashion_mnist.load_data()\n",
    "print(x_train_all.shape, y_train_all.shape)"
   ]
  },
  {
   "cell_type": "code",
   "execution_count": 10,
   "metadata": {},
   "outputs": [
    {
     "data": {
      "image/png": "[encoded data removed]",
      "text/plain": [
       "<Figure size 432x288 with 1 Axes>"
      ]
     },
     "metadata": {
      "needs_background": "light"
     },
     "output_type": "display_data"
    }
   ],
   "source": [
    "import matplotlib.pyplot as plt\n",
    "plt.imshow(x_train_all[0], cmap='gray')\n",
    "plt.show()"
   ]
  },
  {
   "cell_type": "code",
   "execution_count": 11,
   "metadata": {},
   "outputs": [],
   "source": [
    " class_names = ['티셔츠/윗도리', '바지', '스웨터', '드레스', '코트', \n",
    "               '샌들', '셔츠', '스니커즈', '가방', '앵클부츠']"
   ]
  },
  {
   "cell_type": "code",
   "execution_count": 12,
   "metadata": {},
   "outputs": [],
   "source": [
    "from sklearn.model_selection import train_test_split\n",
    "x_train, x_val, y_train, y_val = train_test_split(x_train_all, y_train_all, stratify=y_train_all, \n",
    "                                                  test_size=0.2, random_state=42)"
   ]
  },
  {
   "cell_type": "code",
   "execution_count": 13,
   "metadata": {},
   "outputs": [],
   "source": [
    "x_train = x_train / 255\n",
    "x_val = x_val / 255"
   ]
  },
  {
   "cell_type": "code",
   "execution_count": 14,
   "metadata": {},
   "outputs": [],
   "source": [
    "x_train = x_train.reshape(-1, 784)\n",
    "x_val = x_val.reshape(-1, 784)"
   ]
  },
  {
   "cell_type": "code",
   "execution_count": 15,
   "metadata": {},
   "outputs": [
    {
     "name": "stdout",
     "output_type": "stream",
     "text": [
      "(48000, 10) (12000, 10)\n"
     ]
    }
   ],
   "source": [
    "y_train_encoded = tf.keras.utils.to_categorical(y_train)\n",
    "y_val_encoded = tf.keras.utils.to_categorical(y_val)\n",
    "print(y_train_encoded.shape, y_val_encoded.shape)"
   ]
  },
  {
   "cell_type": "code",
   "execution_count": 16,
   "metadata": {},
   "outputs": [
    {
     "name": "stdout",
     "output_type": "stream",
     "text": [
      "6 [0. 0. 0. 0. 0. 0. 1. 0. 0. 0.]\n"
     ]
    }
   ],
   "source": [
    "print(y_train[0], y_train_encoded[0])"
   ]
  },
  {
   "cell_type": "code",
   "execution_count": 17,
   "metadata": {},
   "outputs": [
    {
     "name": "stdout",
     "output_type": "stream",
     "text": [
      "........................................"
     ]
    }
   ],
   "source": [
    "fc = MultiClassNetwork(units=100, batch_size=256) # units은 은닉층의 뉴런 개수\n",
    "fc.fit(x_train, y_train_encoded, \n",
    "       x_val=x_val, y_val=y_val_encoded, epochs=40)"
   ]
  },
  {
   "cell_type": "code",
   "execution_count": 18,
   "metadata": {},
   "outputs": [
    {
     "data": {
      "image/png": "[encoded data removed]",
      "text/plain": [
       "<Figure size 432x288 with 1 Axes>"
      ]
     },
     "metadata": {
      "needs_background": "light"
     },
     "output_type": "display_data"
    }
   ],
   "source": [
    "plt.plot(fc.losses)\n",
    "plt.plot(fc.val_losses)\n",
    "plt.ylabel('loss')\n",
    "plt.xlabel('iteration')\n",
    "plt.legend(['train_loss', 'val_loss'])\n",
    "plt.show()"
   ]
  },
  {
   "cell_type": "code",
   "execution_count": 19,
   "metadata": {},
   "outputs": [
    {
     "data": {
      "text/plain": [
       "0.8150833333333334"
      ]
     },
     "execution_count": 19,
     "metadata": {},
     "output_type": "execute_result"
    }
   ],
   "source": [
    "fc.score(x_val, y_val_encoded)"
   ]
  },
  {
   "cell_type": "code",
   "execution_count": 20,
   "metadata": {},
   "outputs": [],
   "source": [
    "from tensorflow.keras import Sequential\n",
    "from tensorflow.keras.layers import Dense"
   ]
  },
  {
   "cell_type": "code",
   "execution_count": 21,
   "metadata": {},
   "outputs": [],
   "source": [
    "model = Sequential()\n",
    "model.add(Dense(100, activation='sigmoid', input_shape=(784,)))\n",
    "model.add(Dense(10, activation='softmax'))"
   ]
  },
  {
   "cell_type": "code",
   "execution_count": 22,
   "metadata": {},
   "outputs": [],
   "source": [
    "model.compile(optimizer='sgd', loss='categorical_crossentropy',\n",
    "              metrics=['accuracy'])"
   ]
  },
  {
   "cell_type": "code",
   "execution_count": 23,
   "metadata": {},
   "outputs": [
    {
     "name": "stdout",
     "output_type": "stream",
     "text": [
      "Epoch 1/40\n",
      "1500/1500 [==============================] - 9s 5ms/step - loss: 1.7044 - accuracy: 0.5516 - val_loss: 0.9593 - val_accuracy: 0.7372\n",
      "Epoch 2/40\n",
      "1500/1500 [==============================] - 7s 4ms/step - loss: 0.8910 - accuracy: 0.7396 - val_loss: 0.7487 - val_accuracy: 0.7636\n",
      "Epoch 3/40\n",
      "1500/1500 [==============================] - 7s 5ms/step - loss: 0.7254 - accuracy: 0.7654 - val_loss: 0.6607 - val_accuracy: 0.7807\n",
      "Epoch 4/40\n",
      "1500/1500 [==============================] - 7s 5ms/step - loss: 0.6519 - accuracy: 0.7814 - val_loss: 0.6081 - val_accuracy: 0.7943\n",
      "Epoch 5/40\n",
      "1500/1500 [==============================] - 6s 4ms/step - loss: 0.6066 - accuracy: 0.7933 - val_loss: 0.5731 - val_accuracy: 0.8034\n",
      "Epoch 6/40\n",
      "1500/1500 [==============================] - 7s 4ms/step - loss: 0.5765 - accuracy: 0.8021 - val_loss: 0.5470 - val_accuracy: 0.8110\n",
      "Epoch 7/40\n",
      "1500/1500 [==============================] - 7s 5ms/step - loss: 0.5431 - accuracy: 0.8139 - val_loss: 0.5272 - val_accuracy: 0.8161\n",
      "Epoch 8/40\n",
      "1500/1500 [==============================] - 7s 5ms/step - loss: 0.5347 - accuracy: 0.8163 - val_loss: 0.5125 - val_accuracy: 0.8210\n",
      "Epoch 9/40\n",
      "1500/1500 [==============================] - 7s 5ms/step - loss: 0.5193 - accuracy: 0.8200 - val_loss: 0.4995 - val_accuracy: 0.8242\n",
      "Epoch 10/40\n",
      "1500/1500 [==============================] - 7s 5ms/step - loss: 0.5066 - accuracy: 0.8255 - val_loss: 0.4879 - val_accuracy: 0.8288\n",
      "Epoch 11/40\n",
      "1500/1500 [==============================] - 7s 4ms/step - loss: 0.4996 - accuracy: 0.8271 - val_loss: 0.4792 - val_accuracy: 0.8319\n",
      "Epoch 12/40\n",
      "1500/1500 [==============================] - 6s 4ms/step - loss: 0.4890 - accuracy: 0.8275 - val_loss: 0.4723 - val_accuracy: 0.8341\n",
      "Epoch 13/40\n",
      "1500/1500 [==============================] - 4s 3ms/step - loss: 0.4836 - accuracy: 0.8324 - val_loss: 0.4652 - val_accuracy: 0.8366\n",
      "Epoch 14/40\n",
      "1500/1500 [==============================] - 6s 4ms/step - loss: 0.4715 - accuracy: 0.8356 - val_loss: 0.4576 - val_accuracy: 0.8382\n",
      "Epoch 15/40\n",
      "1500/1500 [==============================] - 7s 5ms/step - loss: 0.4658 - accuracy: 0.8374 - val_loss: 0.4531 - val_accuracy: 0.8393\n",
      "Epoch 16/40\n",
      "1500/1500 [==============================] - 6s 4ms/step - loss: 0.4578 - accuracy: 0.8403 - val_loss: 0.4486 - val_accuracy: 0.8422\n",
      "Epoch 17/40\n",
      "1500/1500 [==============================] - 8s 5ms/step - loss: 0.4586 - accuracy: 0.8390 - val_loss: 0.4422 - val_accuracy: 0.8434\n",
      "Epoch 18/40\n",
      "1500/1500 [==============================] - 7s 5ms/step - loss: 0.4417 - accuracy: 0.8453 - val_loss: 0.4384 - val_accuracy: 0.8455\n",
      "Epoch 19/40\n",
      "1500/1500 [==============================] - 7s 5ms/step - loss: 0.4446 - accuracy: 0.8445 - val_loss: 0.4354 - val_accuracy: 0.8470\n",
      "Epoch 20/40\n",
      "1500/1500 [==============================] - 7s 4ms/step - loss: 0.4389 - accuracy: 0.8472 - val_loss: 0.4304 - val_accuracy: 0.8480\n",
      "Epoch 21/40\n",
      "1500/1500 [==============================] - 7s 5ms/step - loss: 0.4419 - accuracy: 0.8444 - val_loss: 0.4263 - val_accuracy: 0.8506\n",
      "Epoch 22/40\n",
      "1500/1500 [==============================] - 6s 4ms/step - loss: 0.4341 - accuracy: 0.8474 - val_loss: 0.4249 - val_accuracy: 0.8507\n",
      "Epoch 23/40\n",
      "1500/1500 [==============================] - 6s 4ms/step - loss: 0.4290 - accuracy: 0.8498 - val_loss: 0.4196 - val_accuracy: 0.8534\n",
      "Epoch 24/40\n",
      "1500/1500 [==============================] - 6s 4ms/step - loss: 0.4255 - accuracy: 0.8527 - val_loss: 0.4185 - val_accuracy: 0.8526\n",
      "Epoch 25/40\n",
      "1500/1500 [==============================] - 6s 4ms/step - loss: 0.4259 - accuracy: 0.8504 - val_loss: 0.4146 - val_accuracy: 0.8523\n",
      "Epoch 26/40\n",
      "1500/1500 [==============================] - 5s 4ms/step - loss: 0.4207 - accuracy: 0.8522 - val_loss: 0.4124 - val_accuracy: 0.8557\n",
      "Epoch 27/40\n",
      "1500/1500 [==============================] - 6s 4ms/step - loss: 0.4206 - accuracy: 0.8530 - val_loss: 0.4090 - val_accuracy: 0.8578\n",
      "Epoch 28/40\n",
      "1500/1500 [==============================] - 6s 4ms/step - loss: 0.4156 - accuracy: 0.8529 - val_loss: 0.4070 - val_accuracy: 0.8573\n",
      "Epoch 29/40\n",
      "1500/1500 [==============================] - 7s 5ms/step - loss: 0.4113 - accuracy: 0.8553 - val_loss: 0.4059 - val_accuracy: 0.8568\n",
      "Epoch 30/40\n",
      "1500/1500 [==============================] - 7s 5ms/step - loss: 0.4072 - accuracy: 0.8560 - val_loss: 0.4035 - val_accuracy: 0.8594\n",
      "Epoch 31/40\n",
      "1500/1500 [==============================] - 7s 5ms/step - loss: 0.4127 - accuracy: 0.8541 - val_loss: 0.4009 - val_accuracy: 0.8609\n",
      "Epoch 32/40\n",
      "1500/1500 [==============================] - 6s 4ms/step - loss: 0.4046 - accuracy: 0.8570 - val_loss: 0.4003 - val_accuracy: 0.8584\n",
      "Epoch 33/40\n",
      "1500/1500 [==============================] - 6s 4ms/step - loss: 0.4054 - accuracy: 0.8579 - val_loss: 0.3975 - val_accuracy: 0.8583\n",
      "Epoch 34/40\n",
      "1500/1500 [==============================] - 6s 4ms/step - loss: 0.3932 - accuracy: 0.8612 - val_loss: 0.3962 - val_accuracy: 0.8584\n",
      "Epoch 35/40\n",
      "1500/1500 [==============================] - 7s 4ms/step - loss: 0.4029 - accuracy: 0.8582 - val_loss: 0.3940 - val_accuracy: 0.8613\n",
      "Epoch 36/40\n",
      "1500/1500 [==============================] - 6s 4ms/step - loss: 0.3867 - accuracy: 0.8632 - val_loss: 0.3920 - val_accuracy: 0.8631\n",
      "Epoch 37/40\n",
      "1500/1500 [==============================] - 5s 3ms/step - loss: 0.3920 - accuracy: 0.8587 - val_loss: 0.3917 - val_accuracy: 0.8593\n",
      "Epoch 38/40\n",
      "1500/1500 [==============================] - 6s 4ms/step - loss: 0.3916 - accuracy: 0.8625 - val_loss: 0.3887 - val_accuracy: 0.8618\n",
      "Epoch 39/40\n",
      "1500/1500 [==============================] - 7s 4ms/step - loss: 0.3908 - accuracy: 0.8631 - val_loss: 0.3889 - val_accuracy: 0.8618\n",
      "Epoch 40/40\n",
      "1500/1500 [==============================] - 7s 4ms/step - loss: 0.3897 - accuracy: 0.8631 - val_loss: 0.3864 - val_accuracy: 0.8638\n"
     ]
    }
   ],
   "source": [
    "history = model.fit(x_train, y_train_encoded, epochs=40, \n",
    "                    validation_data=(x_val, y_val_encoded))"
   ]
  },
  {
   "cell_type": "code",
   "execution_count": 24,
   "metadata": {
    "scrolled": true
   },
   "outputs": [
    {
     "name": "stdout",
     "output_type": "stream",
     "text": [
      "dict_keys(['loss', 'accuracy', 'val_loss', 'val_accuracy'])\n"
     ]
    }
   ],
   "source": [
    "print(history.history.keys())"
   ]
  },
  {
   "cell_type": "code",
   "execution_count": 25,
   "metadata": {},
   "outputs": [
    {
     "data": {
      "image/png": "[encoded data removed]",
      "text/plain": [
       "<Figure size 432x288 with 1 Axes>"
      ]
     },
     "metadata": {
      "needs_background": "light"
     },
     "output_type": "display_data"
    }
   ],
   "source": [
    "plt.plot(history.history['loss'])\n",
    "plt.plot(history.history['val_loss'])\n",
    "plt.ylabel('loss')\n",
    "plt.xlabel('epoch')\n",
    "plt.legend(['train_loss', 'val_loss'])\n",
    "plt.show()"
   ]
  },
  {
   "cell_type": "code",
   "execution_count": 26,
   "metadata": {},
   "outputs": [
    {
     "data": {
      "image/png": "[encoded data removed]",
      "text/plain": [
       "<Figure size 432x288 with 1 Axes>"
      ]
     },
     "metadata": {
      "needs_background": "light"
     },
     "output_type": "display_data"
    }
   ],
   "source": [
    "plt.plot(history.history['accuracy'])\n",
    "plt.plot(history.history['val_accuracy'])\n",
    "plt.ylabel('loss')\n",
    "plt.xlabel('epoch')\n",
    "plt.legend(['train_loss', 'val_loss'])\n",
    "plt.show()"
   ]
  },
  {
   "cell_type": "code",
   "execution_count": 27,
   "metadata": {},
   "outputs": [
    {
     "name": "stdout",
     "output_type": "stream",
     "text": [
      "0.8638333082199097\n"
     ]
    }
   ],
   "source": [
    "loss, accuracy = model.evaluate(x_val, y_val_encoded, verbose=0)\n",
    "print(accuracy)"
   ]
  },
  {
   "cell_type": "code",
   "execution_count": null,
   "metadata": {},
   "outputs": [],
   "source": []
  }
 ],
 "metadata": {
  "kernelspec": {
   "display_name": "Python 3",
   "language": "python",
   "name": "python3"
  },
  "language_info": {
   "codemirror_mode": {
    "name": "ipython",
    "version": 3
   },
   "file_extension": ".py",
   "mimetype": "text/x-python",
   "name": "python",
   "nbconvert_exporter": "python",
   "pygments_lexer": "ipython3",
   "version": "3.8.5"
  }
 },
 "nbformat": 4,
 "nbformat_minor": 4
}
