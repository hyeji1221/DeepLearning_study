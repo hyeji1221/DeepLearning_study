{
 "cells": [
  {
   "cell_type": "code",
   "execution_count": 4,
   "metadata": {},
   "outputs": [],
   "source": [
    "import numpy as np\n",
    "import matplotlib.pyplot as plt\n",
    "from sklearn.datasets import load_breast_cancer\n",
    "from sklearn.model_selection import train_test_split\n",
    "cancer = load_breast_cancer()\n",
    "x = cancer.data\n",
    "y = cancer.target\n",
    "x_train_all, x_test, y_train_all, y_test = train_test_split(x, y, stratify=y, test_size=0.2, random_state = 42)\n",
    "x_train, x_val, y_train, y_val = train_test_split(x_train_all, y_train_all, stratify=y_train_all, test_size = 0.2, random_state=42)\n",
    "train_mean = np.mean(x_train, axis=0)\n",
    "train_std = np.std(x_train, axis = 0)\n",
    "x_train_scaled = (x_train - train_mean) / train_std\n",
    "x_val_scaled = (x_val - train_mean) / train_std"
   ]
  },
  {
   "cell_type": "code",
   "execution_count": 5,
   "metadata": {},
   "outputs": [],
   "source": [
    "class SingleLayer:  \n",
    "    def __init__(self, learning_rate = 0.1):\n",
    "        self.w = None\n",
    "        self.b = None\n",
    "        self.losses = []\n",
    "        self.val_losses=[]\n",
    "        self.w_history = []\n",
    "        self.lr = learning_rate\n",
    "    \n",
    "    def forpass(self, x):\n",
    "        z = np.sum(x*self.w) + self.b\n",
    "        return z\n",
    "    \n",
    "    def backprop(self, x, err):\n",
    "        w_grad = x * err\n",
    "        b_grad = 1 * err\n",
    "        return w_grad, b_grad\n",
    "    \n",
    "    def activation(self, z):\n",
    "        a = 1 / (1 + np.exp(-z))\n",
    "        return a\n",
    "    \n",
    "    def fit(self, x, y, epochs=100, x_val=None, y_val=None):\n",
    "        self.w = np.ones(x.shape[1])\n",
    "        self.b = 0\n",
    "        self.w_history.append(self.w.copy())\n",
    "        np.random.seed(42)\n",
    "        for i in range(epochs):\n",
    "            loss = 0\n",
    "            indexes = np.random.permutation(np.arange(len(x)))\n",
    "            for i in indexes:\n",
    "                z = self.forpass(x[i])\n",
    "                a = self.activation(z)\n",
    "                err = -(y[i] - a)\n",
    "                w_grad, b_grad = self.backprop(x[i], err)\n",
    "                self.w -= self.lr * w_grad\n",
    "                self.b -= b_grad\n",
    "                self.w_history.append(self.w.copy())\n",
    "                a = np.clip(a, 1e-10, 1-1e-10)\n",
    "                loss += -(y[i]*np.log(a)+(1-y[i])*np.log(1-a))\n",
    "            self.losses.append(loss/len(y))\n",
    "            self.update_val_loss(x_val, y_val)\n",
    "                \n",
    "    def predict(self, x):\n",
    "        z = [self.forpass(x_i) for x_i in x]\n",
    "        return np.array(z) > 0\n",
    "    \n",
    "    def score(self, x, y):\n",
    "        return np.mean(self.predict(x)==y)\n",
    "    \n",
    "    def update_val_loss(self, x_val, y_val):\n",
    "        if x_val is None:\n",
    "            return\n",
    "        val_loss = 0\n",
    "        for i in range(len(x_val)):\n",
    "            z = self.forpass(x_val[i])\n",
    "            a = self.activation(z)\n",
    "            a = np.clip(a, 1e-10, 1-1e-10)\n",
    "            val_loss += -(y_val[i]*np.log(a)+(1-y_val[i])*np.log(1-a))\n",
    "            #print(val_loss)\n",
    "        self.val_losses.append(val_loss/len(y_val))    "
   ]
  },
  {
   "cell_type": "code",
   "execution_count": 13,
   "metadata": {},
   "outputs": [
    {
     "name": "stdout",
     "output_type": "stream",
     "text": [
      "[0.08553810839308303, 0.06301966026864923, 0.058237436351365295, 0.056705233565734835, 0.054543438022724336, 0.05343011026990777, 0.04981057499632998, 0.06237488866059184, 0.05324638490075226, 0.06067816491932257, 0.05824905172257169, 0.05543476405438618, 0.06491313104082401, 0.05376623912175828, 0.045997890164433036, 0.06822947135344687, 0.06785269002768003, 0.051343398133601545, 0.05828682624839541, 0.045067043957763106, 0.048659118561201045, 0.05388829947746326, 0.060159968601194526, 0.050791543431403116, 0.05364427744774489, 0.05468579480114168, 0.05173114999547756, 0.06337119186339417, 0.05514504704464367, 0.059718094882982346, 0.06689553557313926, 0.06756771261195334, 0.05599694825530359, 0.054374840691097354, 0.05475526044632921, 0.053821978574151746, 0.061261924846982486, 0.055472320905254724, 0.058334373915317754, 0.062310519977449894, 0.05547453826790648, 0.04944736328636091, 0.05197455973121611, 0.055335077776258554, 0.051501440562592246, 0.07056237316166485, 0.05558419783754115, 0.07810934396890687, 0.0591922434269058, 0.07588423929943558, 0.05419443954609262, 0.04913297347414969, 0.05086797177896457, 0.053525221876129916, 0.05264721329933723, 0.061777384437761824, 0.059775927541868716, 0.05888293678164621, 0.06227803083726286, 0.0776934705966458, 0.07100199876306298, 0.05502319301641194, 0.05660723783031774, 0.05145571961144756, 0.05942079472354006, 0.05422773033751126, 0.06514075303483935, 0.06300431487777992, 0.062364696337970156, 0.07351622804733554, 0.05773449460732979, 0.06708098339031508, 0.06336812081416826, 0.06019407140570483, 0.061757901190115844, 0.05407729958383781, 0.061316851307724754, 0.06096553350180866, 0.08105463434237141, 0.06592377234808025, 0.05739202463190816, 0.05836206050169396, 0.0629737415616684, 0.05950759781003471, 0.05459601762238479, 0.061838530407084744, 0.0574787564897015, 0.06728290468341595, 0.07876621320028297, 0.05799770232911036, 0.04742170123498065, 0.05663222232163294, 0.056935324662494034, 0.06202662880624203, 0.06569642603658553, 0.057812976773817706, 0.06093863553373073, 0.058903225285563604, 0.06162589844375841, 0.06200540724289578]\n"
     ]
    },
    {
     "data": {
      "image/png": "[encoded data removed]",
      "text/plain": [
       "<Figure size 432x288 with 1 Axes>"
      ]
     },
     "metadata": {
      "needs_background": "light"
     },
     "output_type": "display_data"
    }
   ],
   "source": [
    "layer3 = SingleLayer()\n",
    "layer3.fit(x_train_scaled, y_train, x_val=x_val_scaled, y_val=y_val)\n",
    "plt.ylim(0, 0.3)\n",
    "plt.plot(layer3.losses)\n",
    "plt.plot(layer3.val_losses)\n",
    "print(layer3.val_losses)\n",
    "plt.xlabel('loss')\n",
    "plt.ylabel('epoch')\n",
    "plt.legend(['tran_loss', 'val_loss'])\n",
    "plt.show()"
   ]
  },
  {
   "cell_type": "code",
   "execution_count": 6,
   "metadata": {},
   "outputs": [
    {
     "data": {
      "text/plain": [
       "0.978021978021978"
      ]
     },
     "execution_count": 6,
     "metadata": {},
     "output_type": "execute_result"
    }
   ],
   "source": [
    "layer4 = SingleLayer()\n",
    "layer4.fit(x_train_scaled, y_train, epochs=20)\n",
    "layer4.score(x_val_scaled, y_val)"
   ]
  },
  {
   "cell_type": "code",
   "execution_count": null,
   "metadata": {},
   "outputs": [],
   "source": []
  }
 ],
 "metadata": {
  "kernelspec": {
   "display_name": "Python 3",
   "language": "python",
   "name": "python3"
  },
  "language_info": {
   "codemirror_mode": {
    "name": "ipython",
    "version": 3
   },
   "file_extension": ".py",
   "mimetype": "text/x-python",
   "name": "python",
   "nbconvert_exporter": "python",
   "pygments_lexer": "ipython3",
   "version": "3.8.5"
  }
 },
 "nbformat": 4,
 "nbformat_minor": 4
}
